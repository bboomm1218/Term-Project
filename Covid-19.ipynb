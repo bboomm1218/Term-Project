{
 "cells": [
  {
   "cell_type": "markdown",
   "metadata": {},
   "source": [
    "# Overall Trend of Covid-19 \n",
    "<br>\n",
    "\n",
    "**The main purpose is to present how the trend of Covid-19 is changing from 2021-01-01 to 2021-12-19.** \n",
    "<br><br>\n",
    "Let me be clear that the factors I used in this project are not the only features to be considered. A lot more factors would have been influencial up until this point and will play a certain role in the future.  However, I reckoned these are the main features people would be concerned of and hence, decided to exclude the factors besides the three parts I have used.\n",
    "\n",
    "This project is about displaying the number of new cases and mortalities(also death rate) based on the number of vaccinations throughout this year. Also, I have come to know that some people doubt the effect of the vaccine. Hence, I thought it would be a good idea to see the effectiveness of the vaccine.\n"
   ]
  },
  {
   "cell_type": "code",
   "execution_count": 1,
   "metadata": {},
   "outputs": [],
   "source": [
    "%matplotlib inline\n",
    "\n",
    "import numpy as np\n",
    "import pandas as pd\n",
    "import matplotlib.pyplot as plt\n",
    "from sklearn.metrics import r2_score"
   ]
  },
  {
   "cell_type": "markdown",
   "metadata": {},
   "source": [
    "**First, load the data.**\n",
    "(source : [*Our world in Data*](https://ourworldindata.org/coronavirus))"
   ]
  },
  {
   "cell_type": "code",
   "execution_count": 2,
   "metadata": {},
   "outputs": [],
   "source": [
    "covid_df = pd.read_csv('covid_data.csv')"
   ]
  },
  {
   "cell_type": "code",
   "execution_count": 3,
   "metadata": {
    "scrolled": false
   },
   "outputs": [
    {
     "data": {
      "text/html": [
       "<div>\n",
       "<style scoped>\n",
       "    .dataframe tbody tr th:only-of-type {\n",
       "        vertical-align: middle;\n",
       "    }\n",
       "\n",
       "    .dataframe tbody tr th {\n",
       "        vertical-align: top;\n",
       "    }\n",
       "\n",
       "    .dataframe thead th {\n",
       "        text-align: right;\n",
       "    }\n",
       "</style>\n",
       "<table border=\"1\" class=\"dataframe\">\n",
       "  <thead>\n",
       "    <tr style=\"text-align: right;\">\n",
       "      <th></th>\n",
       "      <th>iso_code</th>\n",
       "      <th>continent</th>\n",
       "      <th>location</th>\n",
       "      <th>date</th>\n",
       "      <th>total_cases</th>\n",
       "      <th>new_cases</th>\n",
       "      <th>new_cases_smoothed</th>\n",
       "      <th>total_deaths</th>\n",
       "      <th>new_deaths</th>\n",
       "      <th>new_deaths_smoothed</th>\n",
       "      <th>...</th>\n",
       "      <th>female_smokers</th>\n",
       "      <th>male_smokers</th>\n",
       "      <th>handwashing_facilities</th>\n",
       "      <th>hospital_beds_per_thousand</th>\n",
       "      <th>life_expectancy</th>\n",
       "      <th>human_development_index</th>\n",
       "      <th>excess_mortality_cumulative_absolute</th>\n",
       "      <th>excess_mortality_cumulative</th>\n",
       "      <th>excess_mortality</th>\n",
       "      <th>excess_mortality_cumulative_per_million</th>\n",
       "    </tr>\n",
       "  </thead>\n",
       "  <tbody>\n",
       "    <tr>\n",
       "      <th>0</th>\n",
       "      <td>KOR</td>\n",
       "      <td>Asia</td>\n",
       "      <td>South Korea</td>\n",
       "      <td>2021-01-01</td>\n",
       "      <td>62593</td>\n",
       "      <td>824</td>\n",
       "      <td>955.857</td>\n",
       "      <td>942</td>\n",
       "      <td>25</td>\n",
       "      <td>21.286</td>\n",
       "      <td>...</td>\n",
       "      <td>6.2</td>\n",
       "      <td>40.9</td>\n",
       "      <td>NaN</td>\n",
       "      <td>12.27</td>\n",
       "      <td>83.03</td>\n",
       "      <td>0.916</td>\n",
       "      <td>NaN</td>\n",
       "      <td>NaN</td>\n",
       "      <td>NaN</td>\n",
       "      <td>NaN</td>\n",
       "    </tr>\n",
       "    <tr>\n",
       "      <th>1</th>\n",
       "      <td>KOR</td>\n",
       "      <td>Asia</td>\n",
       "      <td>South Korea</td>\n",
       "      <td>2021-01-02</td>\n",
       "      <td>63244</td>\n",
       "      <td>651</td>\n",
       "      <td>910.286</td>\n",
       "      <td>962</td>\n",
       "      <td>20</td>\n",
       "      <td>22.000</td>\n",
       "      <td>...</td>\n",
       "      <td>6.2</td>\n",
       "      <td>40.9</td>\n",
       "      <td>NaN</td>\n",
       "      <td>12.27</td>\n",
       "      <td>83.03</td>\n",
       "      <td>0.916</td>\n",
       "      <td>NaN</td>\n",
       "      <td>NaN</td>\n",
       "      <td>NaN</td>\n",
       "      <td>NaN</td>\n",
       "    </tr>\n",
       "    <tr>\n",
       "      <th>2</th>\n",
       "      <td>KOR</td>\n",
       "      <td>Asia</td>\n",
       "      <td>South Korea</td>\n",
       "      <td>2021-01-03</td>\n",
       "      <td>64264</td>\n",
       "      <td>1020</td>\n",
       "      <td>940.571</td>\n",
       "      <td>981</td>\n",
       "      <td>19</td>\n",
       "      <td>23.143</td>\n",
       "      <td>...</td>\n",
       "      <td>6.2</td>\n",
       "      <td>40.9</td>\n",
       "      <td>NaN</td>\n",
       "      <td>12.27</td>\n",
       "      <td>83.03</td>\n",
       "      <td>0.916</td>\n",
       "      <td>171.8</td>\n",
       "      <td>0.06</td>\n",
       "      <td>-1.55</td>\n",
       "      <td>3.348589</td>\n",
       "    </tr>\n",
       "    <tr>\n",
       "      <th>3</th>\n",
       "      <td>KOR</td>\n",
       "      <td>Asia</td>\n",
       "      <td>South Korea</td>\n",
       "      <td>2021-01-04</td>\n",
       "      <td>64979</td>\n",
       "      <td>715</td>\n",
       "      <td>893.429</td>\n",
       "      <td>1007</td>\n",
       "      <td>26</td>\n",
       "      <td>21.143</td>\n",
       "      <td>...</td>\n",
       "      <td>6.2</td>\n",
       "      <td>40.9</td>\n",
       "      <td>NaN</td>\n",
       "      <td>12.27</td>\n",
       "      <td>83.03</td>\n",
       "      <td>0.916</td>\n",
       "      <td>NaN</td>\n",
       "      <td>NaN</td>\n",
       "      <td>NaN</td>\n",
       "      <td>NaN</td>\n",
       "    </tr>\n",
       "    <tr>\n",
       "      <th>4</th>\n",
       "      <td>KOR</td>\n",
       "      <td>Asia</td>\n",
       "      <td>South Korea</td>\n",
       "      <td>2021-01-05</td>\n",
       "      <td>65818</td>\n",
       "      <td>839</td>\n",
       "      <td>863.571</td>\n",
       "      <td>1027</td>\n",
       "      <td>20</td>\n",
       "      <td>21.143</td>\n",
       "      <td>...</td>\n",
       "      <td>6.2</td>\n",
       "      <td>40.9</td>\n",
       "      <td>NaN</td>\n",
       "      <td>12.27</td>\n",
       "      <td>83.03</td>\n",
       "      <td>0.916</td>\n",
       "      <td>NaN</td>\n",
       "      <td>NaN</td>\n",
       "      <td>NaN</td>\n",
       "      <td>NaN</td>\n",
       "    </tr>\n",
       "    <tr>\n",
       "      <th>...</th>\n",
       "      <td>...</td>\n",
       "      <td>...</td>\n",
       "      <td>...</td>\n",
       "      <td>...</td>\n",
       "      <td>...</td>\n",
       "      <td>...</td>\n",
       "      <td>...</td>\n",
       "      <td>...</td>\n",
       "      <td>...</td>\n",
       "      <td>...</td>\n",
       "      <td>...</td>\n",
       "      <td>...</td>\n",
       "      <td>...</td>\n",
       "      <td>...</td>\n",
       "      <td>...</td>\n",
       "      <td>...</td>\n",
       "      <td>...</td>\n",
       "      <td>...</td>\n",
       "      <td>...</td>\n",
       "      <td>...</td>\n",
       "      <td>...</td>\n",
       "    </tr>\n",
       "    <tr>\n",
       "      <th>347</th>\n",
       "      <td>KOR</td>\n",
       "      <td>Asia</td>\n",
       "      <td>South Korea</td>\n",
       "      <td>2021-12-14</td>\n",
       "      <td>536495</td>\n",
       "      <td>7843</td>\n",
       "      <td>6715.857</td>\n",
       "      <td>4456</td>\n",
       "      <td>69</td>\n",
       "      <td>62.286</td>\n",
       "      <td>...</td>\n",
       "      <td>6.2</td>\n",
       "      <td>40.9</td>\n",
       "      <td>NaN</td>\n",
       "      <td>12.27</td>\n",
       "      <td>83.03</td>\n",
       "      <td>0.916</td>\n",
       "      <td>NaN</td>\n",
       "      <td>NaN</td>\n",
       "      <td>NaN</td>\n",
       "      <td>NaN</td>\n",
       "    </tr>\n",
       "    <tr>\n",
       "      <th>348</th>\n",
       "      <td>KOR</td>\n",
       "      <td>Asia</td>\n",
       "      <td>South Korea</td>\n",
       "      <td>2021-12-15</td>\n",
       "      <td>544117</td>\n",
       "      <td>7622</td>\n",
       "      <td>6790.429</td>\n",
       "      <td>4518</td>\n",
       "      <td>62</td>\n",
       "      <td>63.000</td>\n",
       "      <td>...</td>\n",
       "      <td>6.2</td>\n",
       "      <td>40.9</td>\n",
       "      <td>NaN</td>\n",
       "      <td>12.27</td>\n",
       "      <td>83.03</td>\n",
       "      <td>0.916</td>\n",
       "      <td>NaN</td>\n",
       "      <td>NaN</td>\n",
       "      <td>NaN</td>\n",
       "      <td>NaN</td>\n",
       "    </tr>\n",
       "    <tr>\n",
       "      <th>349</th>\n",
       "      <td>KOR</td>\n",
       "      <td>Asia</td>\n",
       "      <td>South Korea</td>\n",
       "      <td>2021-12-16</td>\n",
       "      <td>551551</td>\n",
       "      <td>7434</td>\n",
       "      <td>6849.286</td>\n",
       "      <td>4591</td>\n",
       "      <td>73</td>\n",
       "      <td>65.857</td>\n",
       "      <td>...</td>\n",
       "      <td>6.2</td>\n",
       "      <td>40.9</td>\n",
       "      <td>NaN</td>\n",
       "      <td>12.27</td>\n",
       "      <td>83.03</td>\n",
       "      <td>0.916</td>\n",
       "      <td>NaN</td>\n",
       "      <td>NaN</td>\n",
       "      <td>NaN</td>\n",
       "      <td>NaN</td>\n",
       "    </tr>\n",
       "    <tr>\n",
       "      <th>350</th>\n",
       "      <td>KOR</td>\n",
       "      <td>Asia</td>\n",
       "      <td>South Korea</td>\n",
       "      <td>2021-12-17</td>\n",
       "      <td>558864</td>\n",
       "      <td>7313</td>\n",
       "      <td>6897.286</td>\n",
       "      <td>4644</td>\n",
       "      <td>53</td>\n",
       "      <td>62.000</td>\n",
       "      <td>...</td>\n",
       "      <td>6.2</td>\n",
       "      <td>40.9</td>\n",
       "      <td>NaN</td>\n",
       "      <td>12.27</td>\n",
       "      <td>83.03</td>\n",
       "      <td>0.916</td>\n",
       "      <td>NaN</td>\n",
       "      <td>NaN</td>\n",
       "      <td>NaN</td>\n",
       "      <td>NaN</td>\n",
       "    </tr>\n",
       "    <tr>\n",
       "      <th>351</th>\n",
       "      <td>KOR</td>\n",
       "      <td>Asia</td>\n",
       "      <td>South Korea</td>\n",
       "      <td>2021-12-18</td>\n",
       "      <td>565098</td>\n",
       "      <td>6234</td>\n",
       "      <td>6832.429</td>\n",
       "      <td>4722</td>\n",
       "      <td>78</td>\n",
       "      <td>67.000</td>\n",
       "      <td>...</td>\n",
       "      <td>6.2</td>\n",
       "      <td>40.9</td>\n",
       "      <td>NaN</td>\n",
       "      <td>12.27</td>\n",
       "      <td>83.03</td>\n",
       "      <td>0.916</td>\n",
       "      <td>NaN</td>\n",
       "      <td>NaN</td>\n",
       "      <td>NaN</td>\n",
       "      <td>NaN</td>\n",
       "    </tr>\n",
       "  </tbody>\n",
       "</table>\n",
       "<p>352 rows × 67 columns</p>\n",
       "</div>"
      ],
      "text/plain": [
       "    iso_code continent     location        date  total_cases  new_cases  \\\n",
       "0        KOR      Asia  South Korea  2021-01-01        62593        824   \n",
       "1        KOR      Asia  South Korea  2021-01-02        63244        651   \n",
       "2        KOR      Asia  South Korea  2021-01-03        64264       1020   \n",
       "3        KOR      Asia  South Korea  2021-01-04        64979        715   \n",
       "4        KOR      Asia  South Korea  2021-01-05        65818        839   \n",
       "..       ...       ...          ...         ...          ...        ...   \n",
       "347      KOR      Asia  South Korea  2021-12-14       536495       7843   \n",
       "348      KOR      Asia  South Korea  2021-12-15       544117       7622   \n",
       "349      KOR      Asia  South Korea  2021-12-16       551551       7434   \n",
       "350      KOR      Asia  South Korea  2021-12-17       558864       7313   \n",
       "351      KOR      Asia  South Korea  2021-12-18       565098       6234   \n",
       "\n",
       "     new_cases_smoothed  total_deaths  new_deaths  new_deaths_smoothed  ...  \\\n",
       "0               955.857           942          25               21.286  ...   \n",
       "1               910.286           962          20               22.000  ...   \n",
       "2               940.571           981          19               23.143  ...   \n",
       "3               893.429          1007          26               21.143  ...   \n",
       "4               863.571          1027          20               21.143  ...   \n",
       "..                  ...           ...         ...                  ...  ...   \n",
       "347            6715.857          4456          69               62.286  ...   \n",
       "348            6790.429          4518          62               63.000  ...   \n",
       "349            6849.286          4591          73               65.857  ...   \n",
       "350            6897.286          4644          53               62.000  ...   \n",
       "351            6832.429          4722          78               67.000  ...   \n",
       "\n",
       "     female_smokers  male_smokers  handwashing_facilities  \\\n",
       "0               6.2          40.9                     NaN   \n",
       "1               6.2          40.9                     NaN   \n",
       "2               6.2          40.9                     NaN   \n",
       "3               6.2          40.9                     NaN   \n",
       "4               6.2          40.9                     NaN   \n",
       "..              ...           ...                     ...   \n",
       "347             6.2          40.9                     NaN   \n",
       "348             6.2          40.9                     NaN   \n",
       "349             6.2          40.9                     NaN   \n",
       "350             6.2          40.9                     NaN   \n",
       "351             6.2          40.9                     NaN   \n",
       "\n",
       "     hospital_beds_per_thousand  life_expectancy  human_development_index  \\\n",
       "0                         12.27            83.03                    0.916   \n",
       "1                         12.27            83.03                    0.916   \n",
       "2                         12.27            83.03                    0.916   \n",
       "3                         12.27            83.03                    0.916   \n",
       "4                         12.27            83.03                    0.916   \n",
       "..                          ...              ...                      ...   \n",
       "347                       12.27            83.03                    0.916   \n",
       "348                       12.27            83.03                    0.916   \n",
       "349                       12.27            83.03                    0.916   \n",
       "350                       12.27            83.03                    0.916   \n",
       "351                       12.27            83.03                    0.916   \n",
       "\n",
       "     excess_mortality_cumulative_absolute  excess_mortality_cumulative  \\\n",
       "0                                     NaN                          NaN   \n",
       "1                                     NaN                          NaN   \n",
       "2                                   171.8                         0.06   \n",
       "3                                     NaN                          NaN   \n",
       "4                                     NaN                          NaN   \n",
       "..                                    ...                          ...   \n",
       "347                                   NaN                          NaN   \n",
       "348                                   NaN                          NaN   \n",
       "349                                   NaN                          NaN   \n",
       "350                                   NaN                          NaN   \n",
       "351                                   NaN                          NaN   \n",
       "\n",
       "     excess_mortality  excess_mortality_cumulative_per_million  \n",
       "0                 NaN                                      NaN  \n",
       "1                 NaN                                      NaN  \n",
       "2               -1.55                                 3.348589  \n",
       "3                 NaN                                      NaN  \n",
       "4                 NaN                                      NaN  \n",
       "..                ...                                      ...  \n",
       "347               NaN                                      NaN  \n",
       "348               NaN                                      NaN  \n",
       "349               NaN                                      NaN  \n",
       "350               NaN                                      NaN  \n",
       "351               NaN                                      NaN  \n",
       "\n",
       "[352 rows x 67 columns]"
      ]
     },
     "execution_count": 3,
     "metadata": {},
     "output_type": "execute_result"
    }
   ],
   "source": [
    "covid_df"
   ]
  },
  {
   "cell_type": "code",
   "execution_count": 4,
   "metadata": {
    "scrolled": false
   },
   "outputs": [
    {
     "data": {
      "text/plain": [
       "Index(['iso_code', 'continent', 'location', 'date', 'total_cases', 'new_cases',\n",
       "       'new_cases_smoothed', 'total_deaths', 'new_deaths',\n",
       "       'new_deaths_smoothed', 'total_cases_per_million',\n",
       "       'new_cases_per_million', 'new_cases_smoothed_per_million',\n",
       "       'total_deaths_per_million', 'new_deaths_per_million',\n",
       "       'new_deaths_smoothed_per_million', 'reproduction_rate', 'icu_patients',\n",
       "       'icu_patients_per_million', 'hosp_patients',\n",
       "       'hosp_patients_per_million', 'weekly_icu_admissions',\n",
       "       'weekly_icu_admissions_per_million', 'weekly_hosp_admissions',\n",
       "       'weekly_hosp_admissions_per_million', 'new_tests', 'total_tests',\n",
       "       'total_tests_per_thousand', 'new_tests_per_thousand',\n",
       "       'new_tests_smoothed', 'new_tests_smoothed_per_thousand',\n",
       "       'positive_rate', 'tests_per_case', 'tests_units', 'total_vaccinations',\n",
       "       'people_vaccinated', 'people_fully_vaccinated', 'total_boosters',\n",
       "       'new_vaccinations', 'new_vaccinations_smoothed',\n",
       "       'total_vaccinations_per_hundred', 'people_vaccinated_per_hundred',\n",
       "       'people_fully_vaccinated_per_hundred', 'total_boosters_per_hundred',\n",
       "       'new_vaccinations_smoothed_per_million',\n",
       "       'new_people_vaccinated_smoothed',\n",
       "       'new_people_vaccinated_smoothed_per_hundred', 'stringency_index',\n",
       "       'population', 'population_density', 'median_age', 'aged_65_older',\n",
       "       'aged_70_older', 'gdp_per_capita', 'extreme_poverty',\n",
       "       'cardiovasc_death_rate', 'diabetes_prevalence', 'female_smokers',\n",
       "       'male_smokers', 'handwashing_facilities', 'hospital_beds_per_thousand',\n",
       "       'life_expectancy', 'human_development_index',\n",
       "       'excess_mortality_cumulative_absolute', 'excess_mortality_cumulative',\n",
       "       'excess_mortality', 'excess_mortality_cumulative_per_million'],\n",
       "      dtype='object')"
      ]
     },
     "execution_count": 4,
     "metadata": {},
     "output_type": "execute_result"
    }
   ],
   "source": [
    "covid_df.columns"
   ]
  },
  {
   "cell_type": "markdown",
   "metadata": {},
   "source": [
    "**Extract neccesary columns from the dataframe.**"
   ]
  },
  {
   "cell_type": "code",
   "execution_count": 5,
   "metadata": {},
   "outputs": [
    {
     "data": {
      "text/html": [
       "<div>\n",
       "<style scoped>\n",
       "    .dataframe tbody tr th:only-of-type {\n",
       "        vertical-align: middle;\n",
       "    }\n",
       "\n",
       "    .dataframe tbody tr th {\n",
       "        vertical-align: top;\n",
       "    }\n",
       "\n",
       "    .dataframe thead th {\n",
       "        text-align: right;\n",
       "    }\n",
       "</style>\n",
       "<table border=\"1\" class=\"dataframe\">\n",
       "  <thead>\n",
       "    <tr style=\"text-align: right;\">\n",
       "      <th></th>\n",
       "      <th>location</th>\n",
       "      <th>date</th>\n",
       "      <th>total_cases</th>\n",
       "      <th>new_cases</th>\n",
       "      <th>total_deaths</th>\n",
       "      <th>new_deaths</th>\n",
       "      <th>people_vaccinated</th>\n",
       "      <th>people_fully_vaccinated</th>\n",
       "      <th>total_vaccinations</th>\n",
       "      <th>new_vaccinations</th>\n",
       "    </tr>\n",
       "  </thead>\n",
       "  <tbody>\n",
       "    <tr>\n",
       "      <th>0</th>\n",
       "      <td>South Korea</td>\n",
       "      <td>2021-01-01</td>\n",
       "      <td>62593</td>\n",
       "      <td>824</td>\n",
       "      <td>942</td>\n",
       "      <td>25</td>\n",
       "      <td>NaN</td>\n",
       "      <td>NaN</td>\n",
       "      <td>NaN</td>\n",
       "      <td>NaN</td>\n",
       "    </tr>\n",
       "    <tr>\n",
       "      <th>1</th>\n",
       "      <td>South Korea</td>\n",
       "      <td>2021-01-02</td>\n",
       "      <td>63244</td>\n",
       "      <td>651</td>\n",
       "      <td>962</td>\n",
       "      <td>20</td>\n",
       "      <td>NaN</td>\n",
       "      <td>NaN</td>\n",
       "      <td>NaN</td>\n",
       "      <td>NaN</td>\n",
       "    </tr>\n",
       "    <tr>\n",
       "      <th>2</th>\n",
       "      <td>South Korea</td>\n",
       "      <td>2021-01-03</td>\n",
       "      <td>64264</td>\n",
       "      <td>1020</td>\n",
       "      <td>981</td>\n",
       "      <td>19</td>\n",
       "      <td>NaN</td>\n",
       "      <td>NaN</td>\n",
       "      <td>NaN</td>\n",
       "      <td>NaN</td>\n",
       "    </tr>\n",
       "    <tr>\n",
       "      <th>3</th>\n",
       "      <td>South Korea</td>\n",
       "      <td>2021-01-04</td>\n",
       "      <td>64979</td>\n",
       "      <td>715</td>\n",
       "      <td>1007</td>\n",
       "      <td>26</td>\n",
       "      <td>NaN</td>\n",
       "      <td>NaN</td>\n",
       "      <td>NaN</td>\n",
       "      <td>NaN</td>\n",
       "    </tr>\n",
       "    <tr>\n",
       "      <th>4</th>\n",
       "      <td>South Korea</td>\n",
       "      <td>2021-01-05</td>\n",
       "      <td>65818</td>\n",
       "      <td>839</td>\n",
       "      <td>1027</td>\n",
       "      <td>20</td>\n",
       "      <td>NaN</td>\n",
       "      <td>NaN</td>\n",
       "      <td>NaN</td>\n",
       "      <td>NaN</td>\n",
       "    </tr>\n",
       "    <tr>\n",
       "      <th>...</th>\n",
       "      <td>...</td>\n",
       "      <td>...</td>\n",
       "      <td>...</td>\n",
       "      <td>...</td>\n",
       "      <td>...</td>\n",
       "      <td>...</td>\n",
       "      <td>...</td>\n",
       "      <td>...</td>\n",
       "      <td>...</td>\n",
       "      <td>...</td>\n",
       "    </tr>\n",
       "    <tr>\n",
       "      <th>347</th>\n",
       "      <td>South Korea</td>\n",
       "      <td>2021-12-14</td>\n",
       "      <td>536495</td>\n",
       "      <td>7843</td>\n",
       "      <td>4456</td>\n",
       "      <td>69</td>\n",
       "      <td>43116376.0</td>\n",
       "      <td>41820253.0</td>\n",
       "      <td>91393159.0</td>\n",
       "      <td>906800.0</td>\n",
       "    </tr>\n",
       "    <tr>\n",
       "      <th>348</th>\n",
       "      <td>South Korea</td>\n",
       "      <td>2021-12-15</td>\n",
       "      <td>544117</td>\n",
       "      <td>7622</td>\n",
       "      <td>4518</td>\n",
       "      <td>62</td>\n",
       "      <td>43204838.0</td>\n",
       "      <td>41878501.0</td>\n",
       "      <td>92470992.0</td>\n",
       "      <td>1077833.0</td>\n",
       "    </tr>\n",
       "    <tr>\n",
       "      <th>349</th>\n",
       "      <td>South Korea</td>\n",
       "      <td>2021-12-16</td>\n",
       "      <td>551551</td>\n",
       "      <td>7434</td>\n",
       "      <td>4591</td>\n",
       "      <td>73</td>\n",
       "      <td>43300593.0</td>\n",
       "      <td>41939065.0</td>\n",
       "      <td>93515220.0</td>\n",
       "      <td>1044228.0</td>\n",
       "    </tr>\n",
       "    <tr>\n",
       "      <th>350</th>\n",
       "      <td>South Korea</td>\n",
       "      <td>2021-12-17</td>\n",
       "      <td>558864</td>\n",
       "      <td>7313</td>\n",
       "      <td>4644</td>\n",
       "      <td>53</td>\n",
       "      <td>NaN</td>\n",
       "      <td>NaN</td>\n",
       "      <td>NaN</td>\n",
       "      <td>NaN</td>\n",
       "    </tr>\n",
       "    <tr>\n",
       "      <th>351</th>\n",
       "      <td>South Korea</td>\n",
       "      <td>2021-12-18</td>\n",
       "      <td>565098</td>\n",
       "      <td>6234</td>\n",
       "      <td>4722</td>\n",
       "      <td>78</td>\n",
       "      <td>NaN</td>\n",
       "      <td>NaN</td>\n",
       "      <td>NaN</td>\n",
       "      <td>NaN</td>\n",
       "    </tr>\n",
       "  </tbody>\n",
       "</table>\n",
       "<p>352 rows × 10 columns</p>\n",
       "</div>"
      ],
      "text/plain": [
       "        location        date  total_cases  new_cases  total_deaths  \\\n",
       "0    South Korea  2021-01-01        62593        824           942   \n",
       "1    South Korea  2021-01-02        63244        651           962   \n",
       "2    South Korea  2021-01-03        64264       1020           981   \n",
       "3    South Korea  2021-01-04        64979        715          1007   \n",
       "4    South Korea  2021-01-05        65818        839          1027   \n",
       "..           ...         ...          ...        ...           ...   \n",
       "347  South Korea  2021-12-14       536495       7843          4456   \n",
       "348  South Korea  2021-12-15       544117       7622          4518   \n",
       "349  South Korea  2021-12-16       551551       7434          4591   \n",
       "350  South Korea  2021-12-17       558864       7313          4644   \n",
       "351  South Korea  2021-12-18       565098       6234          4722   \n",
       "\n",
       "     new_deaths  people_vaccinated  people_fully_vaccinated  \\\n",
       "0            25                NaN                      NaN   \n",
       "1            20                NaN                      NaN   \n",
       "2            19                NaN                      NaN   \n",
       "3            26                NaN                      NaN   \n",
       "4            20                NaN                      NaN   \n",
       "..          ...                ...                      ...   \n",
       "347          69         43116376.0               41820253.0   \n",
       "348          62         43204838.0               41878501.0   \n",
       "349          73         43300593.0               41939065.0   \n",
       "350          53                NaN                      NaN   \n",
       "351          78                NaN                      NaN   \n",
       "\n",
       "     total_vaccinations  new_vaccinations  \n",
       "0                   NaN               NaN  \n",
       "1                   NaN               NaN  \n",
       "2                   NaN               NaN  \n",
       "3                   NaN               NaN  \n",
       "4                   NaN               NaN  \n",
       "..                  ...               ...  \n",
       "347          91393159.0          906800.0  \n",
       "348          92470992.0         1077833.0  \n",
       "349          93515220.0         1044228.0  \n",
       "350                 NaN               NaN  \n",
       "351                 NaN               NaN  \n",
       "\n",
       "[352 rows x 10 columns]"
      ]
     },
     "execution_count": 5,
     "metadata": {},
     "output_type": "execute_result"
    }
   ],
   "source": [
    "extracted_covid_df = covid_df[['location', 'date', 'total_cases', 'new_cases', 'total_deaths', 'new_deaths', 'people_vaccinated', 'people_fully_vaccinated', \n",
    "                               'total_vaccinations', 'new_vaccinations']]\n",
    "extracted_covid_df"
   ]
  },
  {
   "cell_type": "code",
   "execution_count": 6,
   "metadata": {},
   "outputs": [],
   "source": [
    "df_copy = extracted_covid_df.copy()\n",
    "# make a duplicate for the data"
   ]
  },
  {
   "cell_type": "code",
   "execution_count": 7,
   "metadata": {},
   "outputs": [
    {
     "data": {
      "text/plain": [
       "0       824\n",
       "1       651\n",
       "2      1020\n",
       "3       715\n",
       "4       839\n",
       "       ... \n",
       "347    7843\n",
       "348    7622\n",
       "349    7434\n",
       "350    7313\n",
       "351    6234\n",
       "Name: new_cases, Length: 352, dtype: int64"
      ]
     },
     "execution_count": 7,
     "metadata": {},
     "output_type": "execute_result"
    }
   ],
   "source": [
    "df_copy['new_cases']"
   ]
  },
  {
   "cell_type": "code",
   "execution_count": 8,
   "metadata": {},
   "outputs": [
    {
     "data": {
      "text/html": [
       "<div>\n",
       "<style scoped>\n",
       "    .dataframe tbody tr th:only-of-type {\n",
       "        vertical-align: middle;\n",
       "    }\n",
       "\n",
       "    .dataframe tbody tr th {\n",
       "        vertical-align: top;\n",
       "    }\n",
       "\n",
       "    .dataframe thead th {\n",
       "        text-align: right;\n",
       "    }\n",
       "</style>\n",
       "<table border=\"1\" class=\"dataframe\">\n",
       "  <thead>\n",
       "    <tr style=\"text-align: right;\">\n",
       "      <th></th>\n",
       "      <th>date</th>\n",
       "      <th>location</th>\n",
       "      <th>new_cases</th>\n",
       "      <th>new_vaccinations</th>\n",
       "    </tr>\n",
       "  </thead>\n",
       "  <tbody>\n",
       "    <tr>\n",
       "      <th>0</th>\n",
       "      <td>2021-01-01</td>\n",
       "      <td>South Korea</td>\n",
       "      <td>824</td>\n",
       "      <td>NaN</td>\n",
       "    </tr>\n",
       "    <tr>\n",
       "      <th>1</th>\n",
       "      <td>2021-01-02</td>\n",
       "      <td>South Korea</td>\n",
       "      <td>651</td>\n",
       "      <td>NaN</td>\n",
       "    </tr>\n",
       "    <tr>\n",
       "      <th>2</th>\n",
       "      <td>2021-01-03</td>\n",
       "      <td>South Korea</td>\n",
       "      <td>1020</td>\n",
       "      <td>NaN</td>\n",
       "    </tr>\n",
       "    <tr>\n",
       "      <th>3</th>\n",
       "      <td>2021-01-04</td>\n",
       "      <td>South Korea</td>\n",
       "      <td>715</td>\n",
       "      <td>NaN</td>\n",
       "    </tr>\n",
       "    <tr>\n",
       "      <th>4</th>\n",
       "      <td>2021-01-05</td>\n",
       "      <td>South Korea</td>\n",
       "      <td>839</td>\n",
       "      <td>NaN</td>\n",
       "    </tr>\n",
       "    <tr>\n",
       "      <th>...</th>\n",
       "      <td>...</td>\n",
       "      <td>...</td>\n",
       "      <td>...</td>\n",
       "      <td>...</td>\n",
       "    </tr>\n",
       "    <tr>\n",
       "      <th>347</th>\n",
       "      <td>2021-12-14</td>\n",
       "      <td>South Korea</td>\n",
       "      <td>7843</td>\n",
       "      <td>906800.0</td>\n",
       "    </tr>\n",
       "    <tr>\n",
       "      <th>348</th>\n",
       "      <td>2021-12-15</td>\n",
       "      <td>South Korea</td>\n",
       "      <td>7622</td>\n",
       "      <td>1077833.0</td>\n",
       "    </tr>\n",
       "    <tr>\n",
       "      <th>349</th>\n",
       "      <td>2021-12-16</td>\n",
       "      <td>South Korea</td>\n",
       "      <td>7434</td>\n",
       "      <td>1044228.0</td>\n",
       "    </tr>\n",
       "    <tr>\n",
       "      <th>350</th>\n",
       "      <td>2021-12-17</td>\n",
       "      <td>South Korea</td>\n",
       "      <td>7313</td>\n",
       "      <td>NaN</td>\n",
       "    </tr>\n",
       "    <tr>\n",
       "      <th>351</th>\n",
       "      <td>2021-12-18</td>\n",
       "      <td>South Korea</td>\n",
       "      <td>6234</td>\n",
       "      <td>NaN</td>\n",
       "    </tr>\n",
       "  </tbody>\n",
       "</table>\n",
       "<p>352 rows × 4 columns</p>\n",
       "</div>"
      ],
      "text/plain": [
       "           date     location  new_cases  new_vaccinations\n",
       "0    2021-01-01  South Korea        824               NaN\n",
       "1    2021-01-02  South Korea        651               NaN\n",
       "2    2021-01-03  South Korea       1020               NaN\n",
       "3    2021-01-04  South Korea        715               NaN\n",
       "4    2021-01-05  South Korea        839               NaN\n",
       "..          ...          ...        ...               ...\n",
       "347  2021-12-14  South Korea       7843          906800.0\n",
       "348  2021-12-15  South Korea       7622         1077833.0\n",
       "349  2021-12-16  South Korea       7434         1044228.0\n",
       "350  2021-12-17  South Korea       7313               NaN\n",
       "351  2021-12-18  South Korea       6234               NaN\n",
       "\n",
       "[352 rows x 4 columns]"
      ]
     },
     "execution_count": 8,
     "metadata": {},
     "output_type": "execute_result"
    }
   ],
   "source": [
    "df_copy[['date', 'location', 'new_cases', 'new_vaccinations']]"
   ]
  },
  {
   "cell_type": "code",
   "execution_count": 9,
   "metadata": {},
   "outputs": [
    {
     "data": {
      "text/plain": [
       "0      2021-01-01\n",
       "1      2021-01-02\n",
       "2      2021-01-03\n",
       "3      2021-01-04\n",
       "4      2021-01-05\n",
       "          ...    \n",
       "347    2021-12-14\n",
       "348    2021-12-15\n",
       "349    2021-12-16\n",
       "350    2021-12-17\n",
       "351    2021-12-18\n",
       "Name: date, Length: 352, dtype: object"
      ]
     },
     "execution_count": 9,
     "metadata": {},
     "output_type": "execute_result"
    }
   ],
   "source": [
    "df_copy.date"
   ]
  },
  {
   "cell_type": "code",
   "execution_count": 10,
   "metadata": {},
   "outputs": [],
   "source": [
    "df_copy['year'] = pd.DatetimeIndex(df_copy.date).year\n",
    "df_copy['month'] = pd.DatetimeIndex(df_copy.date).month\n",
    "df_copy['day'] = pd.DatetimeIndex(df_copy.date).day\n",
    "# add more columns to the data frame"
   ]
  },
  {
   "cell_type": "code",
   "execution_count": 11,
   "metadata": {
    "scrolled": false
   },
   "outputs": [
    {
     "data": {
      "text/html": [
       "<div>\n",
       "<style scoped>\n",
       "    .dataframe tbody tr th:only-of-type {\n",
       "        vertical-align: middle;\n",
       "    }\n",
       "\n",
       "    .dataframe tbody tr th {\n",
       "        vertical-align: top;\n",
       "    }\n",
       "\n",
       "    .dataframe thead th {\n",
       "        text-align: right;\n",
       "    }\n",
       "</style>\n",
       "<table border=\"1\" class=\"dataframe\">\n",
       "  <thead>\n",
       "    <tr style=\"text-align: right;\">\n",
       "      <th></th>\n",
       "      <th>location</th>\n",
       "      <th>date</th>\n",
       "      <th>total_cases</th>\n",
       "      <th>new_cases</th>\n",
       "      <th>total_deaths</th>\n",
       "      <th>new_deaths</th>\n",
       "      <th>people_vaccinated</th>\n",
       "      <th>people_fully_vaccinated</th>\n",
       "      <th>total_vaccinations</th>\n",
       "      <th>new_vaccinations</th>\n",
       "      <th>year</th>\n",
       "      <th>month</th>\n",
       "      <th>day</th>\n",
       "    </tr>\n",
       "  </thead>\n",
       "  <tbody>\n",
       "    <tr>\n",
       "      <th>0</th>\n",
       "      <td>South Korea</td>\n",
       "      <td>2021-01-01</td>\n",
       "      <td>62593</td>\n",
       "      <td>824</td>\n",
       "      <td>942</td>\n",
       "      <td>25</td>\n",
       "      <td>NaN</td>\n",
       "      <td>NaN</td>\n",
       "      <td>NaN</td>\n",
       "      <td>NaN</td>\n",
       "      <td>2021</td>\n",
       "      <td>1</td>\n",
       "      <td>1</td>\n",
       "    </tr>\n",
       "    <tr>\n",
       "      <th>1</th>\n",
       "      <td>South Korea</td>\n",
       "      <td>2021-01-02</td>\n",
       "      <td>63244</td>\n",
       "      <td>651</td>\n",
       "      <td>962</td>\n",
       "      <td>20</td>\n",
       "      <td>NaN</td>\n",
       "      <td>NaN</td>\n",
       "      <td>NaN</td>\n",
       "      <td>NaN</td>\n",
       "      <td>2021</td>\n",
       "      <td>1</td>\n",
       "      <td>2</td>\n",
       "    </tr>\n",
       "    <tr>\n",
       "      <th>2</th>\n",
       "      <td>South Korea</td>\n",
       "      <td>2021-01-03</td>\n",
       "      <td>64264</td>\n",
       "      <td>1020</td>\n",
       "      <td>981</td>\n",
       "      <td>19</td>\n",
       "      <td>NaN</td>\n",
       "      <td>NaN</td>\n",
       "      <td>NaN</td>\n",
       "      <td>NaN</td>\n",
       "      <td>2021</td>\n",
       "      <td>1</td>\n",
       "      <td>3</td>\n",
       "    </tr>\n",
       "    <tr>\n",
       "      <th>3</th>\n",
       "      <td>South Korea</td>\n",
       "      <td>2021-01-04</td>\n",
       "      <td>64979</td>\n",
       "      <td>715</td>\n",
       "      <td>1007</td>\n",
       "      <td>26</td>\n",
       "      <td>NaN</td>\n",
       "      <td>NaN</td>\n",
       "      <td>NaN</td>\n",
       "      <td>NaN</td>\n",
       "      <td>2021</td>\n",
       "      <td>1</td>\n",
       "      <td>4</td>\n",
       "    </tr>\n",
       "    <tr>\n",
       "      <th>4</th>\n",
       "      <td>South Korea</td>\n",
       "      <td>2021-01-05</td>\n",
       "      <td>65818</td>\n",
       "      <td>839</td>\n",
       "      <td>1027</td>\n",
       "      <td>20</td>\n",
       "      <td>NaN</td>\n",
       "      <td>NaN</td>\n",
       "      <td>NaN</td>\n",
       "      <td>NaN</td>\n",
       "      <td>2021</td>\n",
       "      <td>1</td>\n",
       "      <td>5</td>\n",
       "    </tr>\n",
       "    <tr>\n",
       "      <th>...</th>\n",
       "      <td>...</td>\n",
       "      <td>...</td>\n",
       "      <td>...</td>\n",
       "      <td>...</td>\n",
       "      <td>...</td>\n",
       "      <td>...</td>\n",
       "      <td>...</td>\n",
       "      <td>...</td>\n",
       "      <td>...</td>\n",
       "      <td>...</td>\n",
       "      <td>...</td>\n",
       "      <td>...</td>\n",
       "      <td>...</td>\n",
       "    </tr>\n",
       "    <tr>\n",
       "      <th>347</th>\n",
       "      <td>South Korea</td>\n",
       "      <td>2021-12-14</td>\n",
       "      <td>536495</td>\n",
       "      <td>7843</td>\n",
       "      <td>4456</td>\n",
       "      <td>69</td>\n",
       "      <td>43116376.0</td>\n",
       "      <td>41820253.0</td>\n",
       "      <td>91393159.0</td>\n",
       "      <td>906800.0</td>\n",
       "      <td>2021</td>\n",
       "      <td>12</td>\n",
       "      <td>14</td>\n",
       "    </tr>\n",
       "    <tr>\n",
       "      <th>348</th>\n",
       "      <td>South Korea</td>\n",
       "      <td>2021-12-15</td>\n",
       "      <td>544117</td>\n",
       "      <td>7622</td>\n",
       "      <td>4518</td>\n",
       "      <td>62</td>\n",
       "      <td>43204838.0</td>\n",
       "      <td>41878501.0</td>\n",
       "      <td>92470992.0</td>\n",
       "      <td>1077833.0</td>\n",
       "      <td>2021</td>\n",
       "      <td>12</td>\n",
       "      <td>15</td>\n",
       "    </tr>\n",
       "    <tr>\n",
       "      <th>349</th>\n",
       "      <td>South Korea</td>\n",
       "      <td>2021-12-16</td>\n",
       "      <td>551551</td>\n",
       "      <td>7434</td>\n",
       "      <td>4591</td>\n",
       "      <td>73</td>\n",
       "      <td>43300593.0</td>\n",
       "      <td>41939065.0</td>\n",
       "      <td>93515220.0</td>\n",
       "      <td>1044228.0</td>\n",
       "      <td>2021</td>\n",
       "      <td>12</td>\n",
       "      <td>16</td>\n",
       "    </tr>\n",
       "    <tr>\n",
       "      <th>350</th>\n",
       "      <td>South Korea</td>\n",
       "      <td>2021-12-17</td>\n",
       "      <td>558864</td>\n",
       "      <td>7313</td>\n",
       "      <td>4644</td>\n",
       "      <td>53</td>\n",
       "      <td>NaN</td>\n",
       "      <td>NaN</td>\n",
       "      <td>NaN</td>\n",
       "      <td>NaN</td>\n",
       "      <td>2021</td>\n",
       "      <td>12</td>\n",
       "      <td>17</td>\n",
       "    </tr>\n",
       "    <tr>\n",
       "      <th>351</th>\n",
       "      <td>South Korea</td>\n",
       "      <td>2021-12-18</td>\n",
       "      <td>565098</td>\n",
       "      <td>6234</td>\n",
       "      <td>4722</td>\n",
       "      <td>78</td>\n",
       "      <td>NaN</td>\n",
       "      <td>NaN</td>\n",
       "      <td>NaN</td>\n",
       "      <td>NaN</td>\n",
       "      <td>2021</td>\n",
       "      <td>12</td>\n",
       "      <td>18</td>\n",
       "    </tr>\n",
       "  </tbody>\n",
       "</table>\n",
       "<p>352 rows × 13 columns</p>\n",
       "</div>"
      ],
      "text/plain": [
       "        location        date  total_cases  new_cases  total_deaths  \\\n",
       "0    South Korea  2021-01-01        62593        824           942   \n",
       "1    South Korea  2021-01-02        63244        651           962   \n",
       "2    South Korea  2021-01-03        64264       1020           981   \n",
       "3    South Korea  2021-01-04        64979        715          1007   \n",
       "4    South Korea  2021-01-05        65818        839          1027   \n",
       "..           ...         ...          ...        ...           ...   \n",
       "347  South Korea  2021-12-14       536495       7843          4456   \n",
       "348  South Korea  2021-12-15       544117       7622          4518   \n",
       "349  South Korea  2021-12-16       551551       7434          4591   \n",
       "350  South Korea  2021-12-17       558864       7313          4644   \n",
       "351  South Korea  2021-12-18       565098       6234          4722   \n",
       "\n",
       "     new_deaths  people_vaccinated  people_fully_vaccinated  \\\n",
       "0            25                NaN                      NaN   \n",
       "1            20                NaN                      NaN   \n",
       "2            19                NaN                      NaN   \n",
       "3            26                NaN                      NaN   \n",
       "4            20                NaN                      NaN   \n",
       "..          ...                ...                      ...   \n",
       "347          69         43116376.0               41820253.0   \n",
       "348          62         43204838.0               41878501.0   \n",
       "349          73         43300593.0               41939065.0   \n",
       "350          53                NaN                      NaN   \n",
       "351          78                NaN                      NaN   \n",
       "\n",
       "     total_vaccinations  new_vaccinations  year  month  day  \n",
       "0                   NaN               NaN  2021      1    1  \n",
       "1                   NaN               NaN  2021      1    2  \n",
       "2                   NaN               NaN  2021      1    3  \n",
       "3                   NaN               NaN  2021      1    4  \n",
       "4                   NaN               NaN  2021      1    5  \n",
       "..                  ...               ...   ...    ...  ...  \n",
       "347          91393159.0          906800.0  2021     12   14  \n",
       "348          92470992.0         1077833.0  2021     12   15  \n",
       "349          93515220.0         1044228.0  2021     12   16  \n",
       "350                 NaN               NaN  2021     12   17  \n",
       "351                 NaN               NaN  2021     12   18  \n",
       "\n",
       "[352 rows x 13 columns]"
      ]
     },
     "execution_count": 11,
     "metadata": {},
     "output_type": "execute_result"
    }
   ],
   "source": [
    "df_copy"
   ]
  },
  {
   "cell_type": "code",
   "execution_count": 12,
   "metadata": {},
   "outputs": [
    {
     "data": {
      "text/plain": [
       "array([ 16739,  11523,  13608,  18995,  18165,  16924,  42064,  53658,\n",
       "        60328,  52613,  85964, 112748], dtype=int64)"
      ]
     },
     "execution_count": 12,
     "metadata": {},
     "output_type": "execute_result"
    }
   ],
   "source": [
    "cases_per_month = []\n",
    "for i in range(1, 13):\n",
    "    sum = df_copy[df_copy.month == i]['new_cases'].sum()\n",
    "    cases_per_month.append(sum)\n",
    "cases_per_month = np.array(cases_per_month)\n",
    "cases_per_month"
   ]
  },
  {
   "cell_type": "markdown",
   "metadata": {},
   "source": [
    "**Draw two plots to visualize the overall trend of the pandemic.\n",
    "<br><br>\n",
    "The first one is fitted in line, and the other in polynomial curve.**"
   ]
  },
  {
   "cell_type": "code",
   "execution_count": 13,
   "metadata": {},
   "outputs": [
    {
     "data": {
      "image/png": "[encoded data removed]",
      "text/plain": [
       "<Figure size 432x288 with 1 Axes>"
      ]
     },
     "metadata": {
      "needs_background": "light"
     },
     "output_type": "display_data"
    },
    {
     "data": {
      "image/png": "[encoded data removed]",
      "text/plain": [
       "<Figure size 432x288 with 1 Axes>"
      ]
     },
     "metadata": {
      "needs_background": "light"
     },
     "output_type": "display_data"
    }
   ],
   "source": [
    "x = np.array([i for i in range(1, 13)])\n",
    "cases_per_hundred = cases_per_month / 100\n",
    "y = cases_per_hundred\n",
    "\n",
    "m, n = np.polyfit(x, y, 1)  \n",
    "#m = slope, n = intercept\n",
    "plt.title('New positive cases : monthly')\n",
    "plt.plot(x, y, 'b.', label = 'Real Data')\n",
    "plt.plot(x, m * x + n, 'r-', 'Fitted Line')\n",
    "plt.scatter(x, y, alpha = 0.2)\n",
    "plt.xlim([0, 13])\n",
    "plt.xlabel('Month')\n",
    "plt.ylabel('Number of Cases')\n",
    "plt.legend()\n",
    "plt.show()\n",
    "\n",
    "a, b, c = np.polyfit(x, y, 2)\n",
    "\n",
    "plt.title('New positive cases : monthly')\n",
    "plt.plot(x, y, 'b.', label = 'Real Data')\n",
    "plt.plot(x, a * x ** 2 + b * x  + c, 'r-', 'Fitted Curve')\n",
    "plt.scatter(x, y, alpha = 0.2)\n",
    "plt.xlim([0, 13])\n",
    "plt.xlabel('Month')\n",
    "plt.ylabel('Number of Cases')\n",
    "plt.legend()\n",
    "plt.show()"
   ]
  },
  {
   "cell_type": "code",
   "execution_count": 14,
   "metadata": {},
   "outputs": [
    {
     "data": {
      "text/html": [
       "<div>\n",
       "<style scoped>\n",
       "    .dataframe tbody tr th:only-of-type {\n",
       "        vertical-align: middle;\n",
       "    }\n",
       "\n",
       "    .dataframe tbody tr th {\n",
       "        vertical-align: top;\n",
       "    }\n",
       "\n",
       "    .dataframe thead th {\n",
       "        text-align: right;\n",
       "    }\n",
       "</style>\n",
       "<table border=\"1\" class=\"dataframe\">\n",
       "  <thead>\n",
       "    <tr style=\"text-align: right;\">\n",
       "      <th></th>\n",
       "      <th>month</th>\n",
       "      <th>people_fully_vaccinated</th>\n",
       "    </tr>\n",
       "  </thead>\n",
       "  <tbody>\n",
       "    <tr>\n",
       "      <th>0</th>\n",
       "      <td>1</td>\n",
       "      <td>NaN</td>\n",
       "    </tr>\n",
       "    <tr>\n",
       "      <th>1</th>\n",
       "      <td>1</td>\n",
       "      <td>NaN</td>\n",
       "    </tr>\n",
       "    <tr>\n",
       "      <th>2</th>\n",
       "      <td>1</td>\n",
       "      <td>NaN</td>\n",
       "    </tr>\n",
       "    <tr>\n",
       "      <th>3</th>\n",
       "      <td>1</td>\n",
       "      <td>NaN</td>\n",
       "    </tr>\n",
       "    <tr>\n",
       "      <th>4</th>\n",
       "      <td>1</td>\n",
       "      <td>NaN</td>\n",
       "    </tr>\n",
       "    <tr>\n",
       "      <th>...</th>\n",
       "      <td>...</td>\n",
       "      <td>...</td>\n",
       "    </tr>\n",
       "    <tr>\n",
       "      <th>347</th>\n",
       "      <td>12</td>\n",
       "      <td>41820253.0</td>\n",
       "    </tr>\n",
       "    <tr>\n",
       "      <th>348</th>\n",
       "      <td>12</td>\n",
       "      <td>41878501.0</td>\n",
       "    </tr>\n",
       "    <tr>\n",
       "      <th>349</th>\n",
       "      <td>12</td>\n",
       "      <td>41939065.0</td>\n",
       "    </tr>\n",
       "    <tr>\n",
       "      <th>350</th>\n",
       "      <td>12</td>\n",
       "      <td>NaN</td>\n",
       "    </tr>\n",
       "    <tr>\n",
       "      <th>351</th>\n",
       "      <td>12</td>\n",
       "      <td>NaN</td>\n",
       "    </tr>\n",
       "  </tbody>\n",
       "</table>\n",
       "<p>352 rows × 2 columns</p>\n",
       "</div>"
      ],
      "text/plain": [
       "     month  people_fully_vaccinated\n",
       "0        1                      NaN\n",
       "1        1                      NaN\n",
       "2        1                      NaN\n",
       "3        1                      NaN\n",
       "4        1                      NaN\n",
       "..     ...                      ...\n",
       "347     12               41820253.0\n",
       "348     12               41878501.0\n",
       "349     12               41939065.0\n",
       "350     12                      NaN\n",
       "351     12                      NaN\n",
       "\n",
       "[352 rows x 2 columns]"
      ]
     },
     "execution_count": 14,
     "metadata": {},
     "output_type": "execute_result"
    }
   ],
   "source": [
    "df_copy[['month', 'people_fully_vaccinated']]"
   ]
  },
  {
   "cell_type": "code",
   "execution_count": 15,
   "metadata": {
    "scrolled": false
   },
   "outputs": [
    {
     "data": {
      "text/html": [
       "<div>\n",
       "<style scoped>\n",
       "    .dataframe tbody tr th:only-of-type {\n",
       "        vertical-align: middle;\n",
       "    }\n",
       "\n",
       "    .dataframe tbody tr th {\n",
       "        vertical-align: top;\n",
       "    }\n",
       "\n",
       "    .dataframe thead th {\n",
       "        text-align: right;\n",
       "    }\n",
       "</style>\n",
       "<table border=\"1\" class=\"dataframe\">\n",
       "  <thead>\n",
       "    <tr style=\"text-align: right;\">\n",
       "      <th></th>\n",
       "      <th>date</th>\n",
       "      <th>people_fully_vaccinated</th>\n",
       "      <th>new_cases</th>\n",
       "      <th>new_deaths</th>\n",
       "    </tr>\n",
       "  </thead>\n",
       "  <tbody>\n",
       "    <tr>\n",
       "      <th>31</th>\n",
       "      <td>2021-02-01</td>\n",
       "      <td>NaN</td>\n",
       "      <td>336</td>\n",
       "      <td>10</td>\n",
       "    </tr>\n",
       "    <tr>\n",
       "      <th>32</th>\n",
       "      <td>2021-02-02</td>\n",
       "      <td>NaN</td>\n",
       "      <td>467</td>\n",
       "      <td>6</td>\n",
       "    </tr>\n",
       "    <tr>\n",
       "      <th>33</th>\n",
       "      <td>2021-02-03</td>\n",
       "      <td>NaN</td>\n",
       "      <td>451</td>\n",
       "      <td>7</td>\n",
       "    </tr>\n",
       "    <tr>\n",
       "      <th>34</th>\n",
       "      <td>2021-02-04</td>\n",
       "      <td>NaN</td>\n",
       "      <td>369</td>\n",
       "      <td>11</td>\n",
       "    </tr>\n",
       "    <tr>\n",
       "      <th>35</th>\n",
       "      <td>2021-02-05</td>\n",
       "      <td>NaN</td>\n",
       "      <td>393</td>\n",
       "      <td>5</td>\n",
       "    </tr>\n",
       "    <tr>\n",
       "      <th>...</th>\n",
       "      <td>...</td>\n",
       "      <td>...</td>\n",
       "      <td>...</td>\n",
       "      <td>...</td>\n",
       "    </tr>\n",
       "    <tr>\n",
       "      <th>347</th>\n",
       "      <td>2021-12-14</td>\n",
       "      <td>41820253.0</td>\n",
       "      <td>7843</td>\n",
       "      <td>69</td>\n",
       "    </tr>\n",
       "    <tr>\n",
       "      <th>348</th>\n",
       "      <td>2021-12-15</td>\n",
       "      <td>41878501.0</td>\n",
       "      <td>7622</td>\n",
       "      <td>62</td>\n",
       "    </tr>\n",
       "    <tr>\n",
       "      <th>349</th>\n",
       "      <td>2021-12-16</td>\n",
       "      <td>41939065.0</td>\n",
       "      <td>7434</td>\n",
       "      <td>73</td>\n",
       "    </tr>\n",
       "    <tr>\n",
       "      <th>350</th>\n",
       "      <td>2021-12-17</td>\n",
       "      <td>NaN</td>\n",
       "      <td>7313</td>\n",
       "      <td>53</td>\n",
       "    </tr>\n",
       "    <tr>\n",
       "      <th>351</th>\n",
       "      <td>2021-12-18</td>\n",
       "      <td>NaN</td>\n",
       "      <td>6234</td>\n",
       "      <td>78</td>\n",
       "    </tr>\n",
       "  </tbody>\n",
       "</table>\n",
       "<p>321 rows × 4 columns</p>\n",
       "</div>"
      ],
      "text/plain": [
       "           date  people_fully_vaccinated  new_cases  new_deaths\n",
       "31   2021-02-01                      NaN        336          10\n",
       "32   2021-02-02                      NaN        467           6\n",
       "33   2021-02-03                      NaN        451           7\n",
       "34   2021-02-04                      NaN        369          11\n",
       "35   2021-02-05                      NaN        393           5\n",
       "..          ...                      ...        ...         ...\n",
       "347  2021-12-14               41820253.0       7843          69\n",
       "348  2021-12-15               41878501.0       7622          62\n",
       "349  2021-12-16               41939065.0       7434          73\n",
       "350  2021-12-17                      NaN       7313          53\n",
       "351  2021-12-18                      NaN       6234          78\n",
       "\n",
       "[321 rows x 4 columns]"
      ]
     },
     "execution_count": 15,
     "metadata": {},
     "output_type": "execute_result"
    }
   ],
   "source": [
    "df_copy[df_copy.month >= 2][['date','people_fully_vaccinated', 'new_cases', 'new_deaths']]"
   ]
  },
  {
   "cell_type": "code",
   "execution_count": 16,
   "metadata": {},
   "outputs": [
    {
     "name": "stderr",
     "output_type": "stream",
     "text": [
      "<ipython-input-16-0a1540db5860>:2: FutureWarning: weekofyear and week have been deprecated, please use DatetimeIndex.isocalendar().week instead, which returns a Series.  To exactly reproduce the behavior of week and weekofyear and return an Index, you may call pd.Int64Index(idx.isocalendar().week)\n",
      "  df_copy['week'] = pd.DatetimeIndex(df_copy.date).week\n"
     ]
    }
   ],
   "source": [
    "df_copy['weekday'] = pd.DatetimeIndex(df_copy.date).weekday\n",
    "df_copy['week'] = pd.DatetimeIndex(df_copy.date).week"
   ]
  },
  {
   "cell_type": "code",
   "execution_count": 17,
   "metadata": {
    "scrolled": true
   },
   "outputs": [
    {
     "name": "stderr",
     "output_type": "stream",
     "text": [
      "<ipython-input-17-bf68bed90edf>:1: FutureWarning: Indexing with multiple keys (implicitly converted to a tuple of keys) will be deprecated, use a list instead.\n",
      "  grouped_df = df_copy.groupby('week')['new_cases', 'new_deaths'].sum()\n"
     ]
    }
   ],
   "source": [
    "grouped_df = df_copy.groupby('week')['new_cases', 'new_deaths'].sum()\n",
    "vaccinations = df_copy[df_copy.weekday == 6]['people_fully_vaccinated']\n",
    "\n",
    "# group the data by 'week' to facilitate the use of data"
   ]
  },
  {
   "cell_type": "code",
   "execution_count": 18,
   "metadata": {},
   "outputs": [
    {
     "data": {
      "text/html": [
       "<div>\n",
       "<style scoped>\n",
       "    .dataframe tbody tr th:only-of-type {\n",
       "        vertical-align: middle;\n",
       "    }\n",
       "\n",
       "    .dataframe tbody tr th {\n",
       "        vertical-align: top;\n",
       "    }\n",
       "\n",
       "    .dataframe thead th {\n",
       "        text-align: right;\n",
       "    }\n",
       "</style>\n",
       "<table border=\"1\" class=\"dataframe\">\n",
       "  <thead>\n",
       "    <tr style=\"text-align: right;\">\n",
       "      <th></th>\n",
       "      <th>new_cases</th>\n",
       "      <th>new_deaths</th>\n",
       "    </tr>\n",
       "    <tr>\n",
       "      <th>week</th>\n",
       "      <th></th>\n",
       "      <th></th>\n",
       "    </tr>\n",
       "  </thead>\n",
       "  <tbody>\n",
       "    <tr>\n",
       "      <th>1</th>\n",
       "      <td>4850</td>\n",
       "      <td>159</td>\n",
       "    </tr>\n",
       "    <tr>\n",
       "      <th>2</th>\n",
       "      <td>3615</td>\n",
       "      <td>124</td>\n",
       "    </tr>\n",
       "    <tr>\n",
       "      <th>3</th>\n",
       "      <td>2792</td>\n",
       "      <td>96</td>\n",
       "    </tr>\n",
       "    <tr>\n",
       "      <th>4</th>\n",
       "      <td>2987</td>\n",
       "      <td>65</td>\n",
       "    </tr>\n",
       "    <tr>\n",
       "      <th>5</th>\n",
       "      <td>2677</td>\n",
       "      <td>49</td>\n",
       "    </tr>\n",
       "    <tr>\n",
       "      <th>6</th>\n",
       "      <td>2684</td>\n",
       "      <td>53</td>\n",
       "    </tr>\n",
       "    <tr>\n",
       "      <th>7</th>\n",
       "      <td>3455</td>\n",
       "      <td>35</td>\n",
       "    </tr>\n",
       "    <tr>\n",
       "      <th>8</th>\n",
       "      <td>2707</td>\n",
       "      <td>43</td>\n",
       "    </tr>\n",
       "    <tr>\n",
       "      <th>9</th>\n",
       "      <td>2786</td>\n",
       "      <td>37</td>\n",
       "    </tr>\n",
       "    <tr>\n",
       "      <th>10</th>\n",
       "      <td>3200</td>\n",
       "      <td>33</td>\n",
       "    </tr>\n",
       "    <tr>\n",
       "      <th>11</th>\n",
       "      <td>3058</td>\n",
       "      <td>22</td>\n",
       "    </tr>\n",
       "    <tr>\n",
       "      <th>12</th>\n",
       "      <td>3066</td>\n",
       "      <td>29</td>\n",
       "    </tr>\n",
       "    <tr>\n",
       "      <th>13</th>\n",
       "      <td>3611</td>\n",
       "      <td>22</td>\n",
       "    </tr>\n",
       "    <tr>\n",
       "      <th>14</th>\n",
       "      <td>4394</td>\n",
       "      <td>22</td>\n",
       "    </tr>\n",
       "    <tr>\n",
       "      <th>15</th>\n",
       "      <td>4500</td>\n",
       "      <td>31</td>\n",
       "    </tr>\n",
       "    <tr>\n",
       "      <th>16</th>\n",
       "      <td>4741</td>\n",
       "      <td>16</td>\n",
       "    </tr>\n",
       "    <tr>\n",
       "      <th>17</th>\n",
       "      <td>4341</td>\n",
       "      <td>17</td>\n",
       "    </tr>\n",
       "    <tr>\n",
       "      <th>18</th>\n",
       "      <td>4044</td>\n",
       "      <td>41</td>\n",
       "    </tr>\n",
       "    <tr>\n",
       "      <th>19</th>\n",
       "      <td>4518</td>\n",
       "      <td>28</td>\n",
       "    </tr>\n",
       "    <tr>\n",
       "      <th>20</th>\n",
       "      <td>4177</td>\n",
       "      <td>31</td>\n",
       "    </tr>\n",
       "    <tr>\n",
       "      <th>21</th>\n",
       "      <td>3873</td>\n",
       "      <td>25</td>\n",
       "    </tr>\n",
       "    <tr>\n",
       "      <th>22</th>\n",
       "      <td>4297</td>\n",
       "      <td>15</td>\n",
       "    </tr>\n",
       "    <tr>\n",
       "      <th>23</th>\n",
       "      <td>3636</td>\n",
       "      <td>14</td>\n",
       "    </tr>\n",
       "    <tr>\n",
       "      <th>24</th>\n",
       "      <td>3233</td>\n",
       "      <td>16</td>\n",
       "    </tr>\n",
       "    <tr>\n",
       "      <th>25</th>\n",
       "      <td>4066</td>\n",
       "      <td>11</td>\n",
       "    </tr>\n",
       "    <tr>\n",
       "      <th>26</th>\n",
       "      <td>5223</td>\n",
       "      <td>13</td>\n",
       "    </tr>\n",
       "    <tr>\n",
       "      <th>27</th>\n",
       "      <td>8351</td>\n",
       "      <td>16</td>\n",
       "    </tr>\n",
       "    <tr>\n",
       "      <th>28</th>\n",
       "      <td>10057</td>\n",
       "      <td>14</td>\n",
       "    </tr>\n",
       "    <tr>\n",
       "      <th>29</th>\n",
       "      <td>10963</td>\n",
       "      <td>19</td>\n",
       "    </tr>\n",
       "    <tr>\n",
       "      <th>30</th>\n",
       "      <td>10836</td>\n",
       "      <td>22</td>\n",
       "    </tr>\n",
       "    <tr>\n",
       "      <th>31</th>\n",
       "      <td>11446</td>\n",
       "      <td>26</td>\n",
       "    </tr>\n",
       "    <tr>\n",
       "      <th>32</th>\n",
       "      <td>13033</td>\n",
       "      <td>42</td>\n",
       "    </tr>\n",
       "    <tr>\n",
       "      <th>33</th>\n",
       "      <td>12301</td>\n",
       "      <td>55</td>\n",
       "    </tr>\n",
       "    <tr>\n",
       "      <th>34</th>\n",
       "      <td>12269</td>\n",
       "      <td>62</td>\n",
       "    </tr>\n",
       "    <tr>\n",
       "      <th>35</th>\n",
       "      <td>11727</td>\n",
       "      <td>43</td>\n",
       "    </tr>\n",
       "    <tr>\n",
       "      <th>36</th>\n",
       "      <td>12637</td>\n",
       "      <td>33</td>\n",
       "    </tr>\n",
       "    <tr>\n",
       "      <th>37</th>\n",
       "      <td>13121</td>\n",
       "      <td>49</td>\n",
       "    </tr>\n",
       "    <tr>\n",
       "      <th>38</th>\n",
       "      <td>16017</td>\n",
       "      <td>47</td>\n",
       "    </tr>\n",
       "    <tr>\n",
       "      <th>39</th>\n",
       "      <td>16224</td>\n",
       "      <td>57</td>\n",
       "    </tr>\n",
       "    <tr>\n",
       "      <th>40</th>\n",
       "      <td>13039</td>\n",
       "      <td>70</td>\n",
       "    </tr>\n",
       "    <tr>\n",
       "      <th>41</th>\n",
       "      <td>10629</td>\n",
       "      <td>85</td>\n",
       "    </tr>\n",
       "    <tr>\n",
       "      <th>42</th>\n",
       "      <td>9644</td>\n",
       "      <td>105</td>\n",
       "    </tr>\n",
       "    <tr>\n",
       "      <th>43</th>\n",
       "      <td>13297</td>\n",
       "      <td>85</td>\n",
       "    </tr>\n",
       "    <tr>\n",
       "      <th>44</th>\n",
       "      <td>15308</td>\n",
       "      <td>122</td>\n",
       "    </tr>\n",
       "    <tr>\n",
       "      <th>45</th>\n",
       "      <td>15772</td>\n",
       "      <td>135</td>\n",
       "    </tr>\n",
       "    <tr>\n",
       "      <th>46</th>\n",
       "      <td>20786</td>\n",
       "      <td>183</td>\n",
       "    </tr>\n",
       "    <tr>\n",
       "      <th>47</th>\n",
       "      <td>25948</td>\n",
       "      <td>282</td>\n",
       "    </tr>\n",
       "    <tr>\n",
       "      <th>48</th>\n",
       "      <td>33158</td>\n",
       "      <td>313</td>\n",
       "    </tr>\n",
       "    <tr>\n",
       "      <th>49</th>\n",
       "      <td>45730</td>\n",
       "      <td>400</td>\n",
       "    </tr>\n",
       "    <tr>\n",
       "      <th>50</th>\n",
       "      <td>42010</td>\n",
       "      <td>429</td>\n",
       "    </tr>\n",
       "    <tr>\n",
       "      <th>53</th>\n",
       "      <td>2495</td>\n",
       "      <td>64</td>\n",
       "    </tr>\n",
       "  </tbody>\n",
       "</table>\n",
       "</div>"
      ],
      "text/plain": [
       "      new_cases  new_deaths\n",
       "week                       \n",
       "1          4850         159\n",
       "2          3615         124\n",
       "3          2792          96\n",
       "4          2987          65\n",
       "5          2677          49\n",
       "6          2684          53\n",
       "7          3455          35\n",
       "8          2707          43\n",
       "9          2786          37\n",
       "10         3200          33\n",
       "11         3058          22\n",
       "12         3066          29\n",
       "13         3611          22\n",
       "14         4394          22\n",
       "15         4500          31\n",
       "16         4741          16\n",
       "17         4341          17\n",
       "18         4044          41\n",
       "19         4518          28\n",
       "20         4177          31\n",
       "21         3873          25\n",
       "22         4297          15\n",
       "23         3636          14\n",
       "24         3233          16\n",
       "25         4066          11\n",
       "26         5223          13\n",
       "27         8351          16\n",
       "28        10057          14\n",
       "29        10963          19\n",
       "30        10836          22\n",
       "31        11446          26\n",
       "32        13033          42\n",
       "33        12301          55\n",
       "34        12269          62\n",
       "35        11727          43\n",
       "36        12637          33\n",
       "37        13121          49\n",
       "38        16017          47\n",
       "39        16224          57\n",
       "40        13039          70\n",
       "41        10629          85\n",
       "42         9644         105\n",
       "43        13297          85\n",
       "44        15308         122\n",
       "45        15772         135\n",
       "46        20786         183\n",
       "47        25948         282\n",
       "48        33158         313\n",
       "49        45730         400\n",
       "50        42010         429\n",
       "53         2495          64"
      ]
     },
     "execution_count": 18,
     "metadata": {},
     "output_type": "execute_result"
    }
   ],
   "source": [
    "grouped_df"
   ]
  },
  {
   "cell_type": "code",
   "execution_count": 19,
   "metadata": {},
   "outputs": [
    {
     "data": {
      "text/plain": [
       "(42,)"
      ]
     },
     "execution_count": 19,
     "metadata": {},
     "output_type": "execute_result"
    }
   ],
   "source": [
    "np.array(vaccinations[8:]).shape"
   ]
  },
  {
   "cell_type": "code",
   "execution_count": 20,
   "metadata": {},
   "outputs": [
    {
     "data": {
      "text/plain": [
       "<AxesSubplot:xlabel='week'>"
      ]
     },
     "execution_count": 20,
     "metadata": {},
     "output_type": "execute_result"
    },
    {
     "data": {
      "image/png": "[encoded data removed]",
      "text/plain": [
       "<Figure size 432x288 with 1 Axes>"
      ]
     },
     "metadata": {
      "needs_background": "light"
     },
     "output_type": "display_data"
    }
   ],
   "source": [
    "grouped_df.new_cases.plot()"
   ]
  },
  {
   "cell_type": "code",
   "execution_count": 21,
   "metadata": {},
   "outputs": [
    {
     "data": {
      "text/plain": [
       "<AxesSubplot:xlabel='week'>"
      ]
     },
     "execution_count": 21,
     "metadata": {},
     "output_type": "execute_result"
    },
    {
     "data": {
      "image/png": "[encoded data removed]",
      "text/plain": [
       "<Figure size 432x288 with 1 Axes>"
      ]
     },
     "metadata": {
      "needs_background": "light"
     },
     "output_type": "display_data"
    }
   ],
   "source": [
    "grouped_df.new_deaths.plot()"
   ]
  },
  {
   "cell_type": "code",
   "execution_count": 22,
   "metadata": {},
   "outputs": [
    {
     "data": {
      "text/plain": [
       "<AxesSubplot:title={'center':'Death rate'}, xlabel='week'>"
      ]
     },
     "execution_count": 22,
     "metadata": {},
     "output_type": "execute_result"
    },
    {
     "data": {
      "image/png": "[encoded data removed]",
      "text/plain": [
       "<Figure size 432x288 with 1 Axes>"
      ]
     },
     "metadata": {
      "needs_background": "light"
     },
     "output_type": "display_data"
    }
   ],
   "source": [
    "death_rate = grouped_df.new_deaths / grouped_df.new_cases \n",
    "death_rate.plot(title = 'Death rate')"
   ]
  },
  {
   "cell_type": "code",
   "execution_count": 23,
   "metadata": {},
   "outputs": [],
   "source": [
    "deaths_per_week = np.array(grouped_df.new_deaths)\n",
    "cases_per_week = np.array(grouped_df.new_cases)\n",
    "accumulated_vaccinations = np.array(vaccinations)"
   ]
  },
  {
   "cell_type": "code",
   "execution_count": 24,
   "metadata": {},
   "outputs": [],
   "source": [
    "deathrate_per_week = (deaths_per_week / cases_per_week) * 100"
   ]
  },
  {
   "cell_type": "code",
   "execution_count": 39,
   "metadata": {},
   "outputs": [],
   "source": [
    "x = accumulated_vaccinations[8 : 50]\n",
    "y = deathrate_per_week[8:50]\n",
    "# exclude the first 7 data since the value is nan"
   ]
  },
  {
   "cell_type": "code",
   "execution_count": 40,
   "metadata": {
    "scrolled": false
   },
   "outputs": [
    {
     "data": {
      "image/png": "[encoded data removed]",
      "text/plain": [
       "<Figure size 432x288 with 1 Axes>"
      ]
     },
     "metadata": {
      "needs_background": "light"
     },
     "output_type": "display_data"
    }
   ],
   "source": [
    "line_model = np.poly1d(np.polyfit(x, y, 1))\n",
    "line = np.linspace(x[0], x[-1], 42)\n",
    "\n",
    "plt.title('Mortality')\n",
    "plt.plot(line, line_model(line), 'r-', label = 'fitted line')\n",
    "plt.scatter(x, y, marker = '.')\n",
    "plt.xlabel('Vaccination')\n",
    "plt.ylabel('Deaths per week')\n",
    "plt.legend()\n",
    "plt.show()\n"
   ]
  },
  {
   "cell_type": "code",
   "execution_count": 41,
   "metadata": {},
   "outputs": [
    {
     "data": {
      "text/plain": [
       "0.1342214869875351"
      ]
     },
     "execution_count": 41,
     "metadata": {},
     "output_type": "execute_result"
    }
   ],
   "source": [
    "r2_score(y, line_model(x))"
   ]
  },
  {
   "cell_type": "code",
   "execution_count": 42,
   "metadata": {
    "scrolled": true
   },
   "outputs": [
    {
     "data": {
      "image/png": "[encoded data removed]",
      "text/plain": [
       "<Figure size 432x288 with 1 Axes>"
      ]
     },
     "metadata": {
      "needs_background": "light"
     },
     "output_type": "display_data"
    }
   ],
   "source": [
    "curve_model = np.poly1d(np.polyfit(x, y, 2))\n",
    "line = np.linspace(x[0], x[-1], 42)\n",
    "\n",
    "plt.title('Mortality')\n",
    "plt.plot(line, curve_model(line), 'r-', label = 'fitted curve')\n",
    "plt.scatter(x, y, marker = '.')\n",
    "plt.xlabel('Vaccination')\n",
    "plt.ylabel('Deaths per week')\n",
    "plt.legend()\n",
    "plt.show()"
   ]
  },
  {
   "cell_type": "code",
   "execution_count": 43,
   "metadata": {},
   "outputs": [
    {
     "data": {
      "text/plain": [
       "0.501835370313855"
      ]
     },
     "execution_count": 43,
     "metadata": {},
     "output_type": "execute_result"
    }
   ],
   "source": [
    "r2_score(y, curve_model(x))"
   ]
  },
  {
   "cell_type": "code",
   "execution_count": 44,
   "metadata": {},
   "outputs": [
    {
     "data": {
      "image/png": "[encoded data removed]",
      "text/plain": [
       "<Figure size 432x288 with 1 Axes>"
      ]
     },
     "metadata": {
      "needs_background": "light"
     },
     "output_type": "display_data"
    }
   ],
   "source": [
    "model = np.poly1d(np.polyfit(x, y, 3))\n",
    "line = np.linspace(x[0], x[-1], 42)\n",
    "\n",
    "plt.title('Mortality')\n",
    "plt.plot(line, model(line), 'r-', label = 'fitted curve')\n",
    "plt.scatter(x, y, marker = '.')\n",
    "plt.xlabel('Vaccination')\n",
    "plt.ylabel('Deaths per week')\n",
    "plt.legend()\n",
    "plt.show()"
   ]
  },
  {
   "cell_type": "code",
   "execution_count": 45,
   "metadata": {},
   "outputs": [
    {
     "data": {
      "text/plain": [
       "0.6166412519020321"
      ]
     },
     "execution_count": 45,
     "metadata": {},
     "output_type": "execute_result"
    }
   ],
   "source": [
    "r2_score(y, model(x))"
   ]
  },
  {
   "cell_type": "code",
   "execution_count": 32,
   "metadata": {},
   "outputs": [
    {
     "data": {
      "image/png": "[encoded data removed]",
      "text/plain": [
       "<Figure size 432x288 with 1 Axes>"
      ]
     },
     "metadata": {
      "needs_background": "light"
     },
     "output_type": "display_data"
    }
   ],
   "source": [
    "model = np.poly1d(np.polyfit(x, y, 4))\n",
    "line = np.linspace(x[0], x[-1], 42)\n",
    "\n",
    "plt.title('Mortality')\n",
    "plt.plot(line, model(line), 'r-', label = 'fitted curve')\n",
    "plt.scatter(x, y, marker = '.')\n",
    "plt.xlabel('Vaccination')\n",
    "plt.ylabel('Deaths per week')\n",
    "plt.legend()\n",
    "plt.show()"
   ]
  },
  {
   "cell_type": "code",
   "execution_count": 47,
   "metadata": {},
   "outputs": [
    {
     "data": {
      "text/plain": [
       "0.6166412519020321"
      ]
     },
     "execution_count": 47,
     "metadata": {},
     "output_type": "execute_result"
    }
   ],
   "source": [
    "r2_score(y, model(x))\n",
    "# no big difference from the model above"
   ]
  },
  {
   "cell_type": "markdown",
   "metadata": {},
   "source": [
    "## Correlation of vaccination and death rate\n",
    "\n",
    "**It seems the number of vaccination has little effect in preventing the death rate caused by. However, the new 'smoothed social distancing' was held since October and 'With-Corona' policy began at November.**\n",
    "\n",
    "**Let's exclude the data from after October and figure out whether the vaccination has little effect. The model which degree = 3 seems adequate for the polynomial fit.**\n"
   ]
  },
  {
   "cell_type": "code",
   "execution_count": 48,
   "metadata": {},
   "outputs": [
    {
     "data": {
      "text/plain": [
       "273    39\n",
       "274    39\n",
       "275    39\n",
       "276    40\n",
       "277    40\n",
       "       ..\n",
       "347    50\n",
       "348    50\n",
       "349    50\n",
       "350    50\n",
       "351    50\n",
       "Name: week, Length: 79, dtype: int64"
      ]
     },
     "execution_count": 48,
     "metadata": {},
     "output_type": "execute_result"
    }
   ],
   "source": [
    "df_copy[df_copy.month >= 10]['week']"
   ]
  },
  {
   "cell_type": "code",
   "execution_count": 49,
   "metadata": {},
   "outputs": [],
   "source": [
    "x = accumulated_vaccinations[8 : 39]\n",
    "y = deathrate_per_week[8 : 39]\n",
    "#exclude the data from after October"
   ]
  },
  {
   "cell_type": "code",
   "execution_count": 50,
   "metadata": {
    "scrolled": true
   },
   "outputs": [
    {
     "data": {
      "image/png": "[encoded data removed]",
      "text/plain": [
       "<Figure size 432x288 with 1 Axes>"
      ]
     },
     "metadata": {
      "needs_background": "light"
     },
     "output_type": "display_data"
    }
   ],
   "source": [
    "model = np.poly1d(np.polyfit(x, y, 3))\n",
    "line = np.linspace(x[0], x[-1], 31)\n",
    "\n",
    "plt.title('Mortality')\n",
    "plt.plot(line, model(line), 'r-', label = 'fitted curve')\n",
    "plt.scatter(x, y, marker = '.')\n",
    "plt.xlabel('Vaccination')\n",
    "plt.ylabel('Deaths per week')\n",
    "plt.legend()\n",
    "plt.show()"
   ]
  },
  {
   "cell_type": "code",
   "execution_count": 51,
   "metadata": {},
   "outputs": [
    {
     "data": {
      "text/plain": [
       "0.546189670017958"
      ]
     },
     "execution_count": 51,
     "metadata": {},
     "output_type": "execute_result"
    }
   ],
   "source": [
    "r2_score(y, model(x))"
   ]
  },
  {
   "cell_type": "markdown",
   "metadata": {},
   "source": [
    "### It is clear there was a significant decrease in death rate before October.\n",
    "> Although the curve fluctuates a bit, it is remarkable that the number of vaccination is effective in preventing serious damage from the virus.\n",
    "> \n",
    "> The correlation is approximately 0.55 which implies that vaccination is not the sole factor which determines the death rate."
   ]
  },
  {
   "cell_type": "markdown",
   "metadata": {},
   "source": [
    "**Let's see how the vaccination effects the number of cases.**"
   ]
  },
  {
   "cell_type": "code",
   "execution_count": 52,
   "metadata": {},
   "outputs": [],
   "source": [
    "y = cases_per_week[8 : 39]"
   ]
  },
  {
   "cell_type": "code",
   "execution_count": 53,
   "metadata": {},
   "outputs": [
    {
     "data": {
      "image/png": "[encoded data removed]",
      "text/plain": [
       "<Figure size 432x288 with 1 Axes>"
      ]
     },
     "metadata": {
      "needs_background": "light"
     },
     "output_type": "display_data"
    }
   ],
   "source": [
    "model = np.poly1d(np.polyfit(x, y, 3))\n",
    "line = np.linspace(x[0], x[-1], 35)\n",
    "\n",
    "plt.title('Mortality')\n",
    "plt.plot(line, model(line), 'r-', label = 'fitted curve')\n",
    "plt.scatter(x, y, marker = '.')\n",
    "plt.xlabel('Vaccination')\n",
    "plt.ylabel('New cases per week')\n",
    "plt.legend()\n",
    "plt.show()"
   ]
  },
  {
   "cell_type": "markdown",
   "metadata": {},
   "source": [
    "**The number of cases though, does not seem to decrease. The reason is, as I mentioned in the first place, the number of vaccination may be important factor but not enough to explain the trend of this whole pandemic.**"
   ]
  },
  {
   "cell_type": "markdown",
   "metadata": {},
   "source": [
    "## Conclusion\n",
    "\n",
    "> The number of vaccination does show effect to curing your body from covid-19. \n",
    "> \n",
    "> The substantial effect of the vaccine notwithstanding, there are a lot more factors and complicated reasons that determine the situation(e.g. policy)."
   ]
  }
 ],
 "metadata": {
  "kernelspec": {
   "display_name": "Python 3",
   "language": "python",
   "name": "python3"
  },
  "language_info": {
   "codemirror_mode": {
    "name": "ipython",
    "version": 3
   },
   "file_extension": ".py",
   "mimetype": "text/x-python",
   "name": "python",
   "nbconvert_exporter": "python",
   "pygments_lexer": "ipython3",
   "version": "3.8.5"
  }
 },
 "nbformat": 4,
 "nbformat_minor": 4
}
